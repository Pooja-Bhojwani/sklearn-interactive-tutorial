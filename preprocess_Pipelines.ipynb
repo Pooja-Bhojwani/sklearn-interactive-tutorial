{
 "cells": [
  {
   "cell_type": "markdown",
   "metadata": {},
   "source": [
    "## Scikit Learn Pipelines and Preprocessing steps\n",
    "Since we now know about different scikit learn functions, let's try to learn how do we tie different steps together! \n",
    "\n",
    "By the end of this tutorial you'll know:\n",
    "1. Different pre-processing steps which can be done on our data\n",
    "2. How to tie the transformers and estimators together into a pipeline\n",
    "3. How to make your own transformer\n",
    "4. Finally, how to tie it all up together!\n",
    "\n",
    "### Scikit Learn Pipelines\n",
    "As per the documentation, \n",
    "\"Sequentially apply a list of transforms and a final estimator.\n",
    "    Intermediate steps of the pipeline must be 'transforms', that is, they\n",
    "    must implement fit and transform methods.\n",
    "    The final estimator only needs to implement fit.\"\n",
    "For more information click here : (https://github.com/scikit-learn/scikit-learn/blob/master/sklearn/pipeline.py)"
   ]
  },
  {
   "cell_type": "markdown",
   "metadata": {},
   "source": [
    "Let's start by loading our data:"
   ]
  },
  {
   "cell_type": "code",
   "execution_count": null,
   "metadata": {},
   "outputs": [],
   "source": []
  }
 ],
 "metadata": {
  "kernelspec": {
   "display_name": "Python 3",
   "language": "python",
   "name": "python3"
  },
  "language_info": {
   "codemirror_mode": {
    "name": "ipython",
    "version": 3
   },
   "file_extension": ".py",
   "mimetype": "text/x-python",
   "name": "python",
   "nbconvert_exporter": "python",
   "pygments_lexer": "ipython3",
   "version": "3.7.3"
  }
 },
 "nbformat": 4,
 "nbformat_minor": 2
}
