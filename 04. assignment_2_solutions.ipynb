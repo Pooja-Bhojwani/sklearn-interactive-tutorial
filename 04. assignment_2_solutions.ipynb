{
 "cells": [
  {
   "cell_type": "code",
   "execution_count": 1,
   "metadata": {},
   "outputs": [],
   "source": [
    "%matplotlib inline\n",
    "\n",
    "from __future__ import print_function\n",
    "\n",
    "from time import time\n",
    "import sys\n",
    "import os\n",
    "import numpy as np\n",
    "import scipy.sparse as sp\n",
    "import matplotlib.pyplot as plt\n",
    "from sklearn.datasets import fetch_20newsgroups\n",
    "import numpy as np"
   ]
  },
  {
   "cell_type": "markdown",
   "metadata": {},
   "source": [
    "# Import metrics"
   ]
  },
  {
   "cell_type": "code",
   "execution_count": 2,
   "metadata": {},
   "outputs": [],
   "source": [
    "from sklearn.metrics import precision_recall_fscore_support\n",
    "from sklearn.metrics import accuracy_score\n",
    "from sklearn.metrics import confusion_matrix\n",
    "from sklearn.metrics import classification_report"
   ]
  },
  {
   "cell_type": "markdown",
   "metadata": {},
   "source": [
    "ALL major classifiers are imported below\n",
    "\n",
    "##### USE ANY 2 of the below classifiers, Make sure to understand the documentation and parameters before using them"
   ]
  },
  {
   "cell_type": "code",
   "execution_count": 3,
   "metadata": {},
   "outputs": [],
   "source": [
    "from sklearn.naive_bayes import MultinomialNB\n",
    "from sklearn.ensemble import RandomForestClassifier\n",
    "from sklearn.tree import DecisionTreeClassifier\n",
    "from sklearn import svm"
   ]
  },
  {
   "cell_type": "markdown",
   "metadata": {},
   "source": [
    "#### USE ANY OF THE BELOW VECTORIZERS, Again read the documentation to understand the parameters\n"
   ]
  },
  {
   "cell_type": "code",
   "execution_count": 4,
   "metadata": {},
   "outputs": [],
   "source": [
    "from sklearn.feature_extraction.text import TfidfVectorizer\n",
    "from sklearn.feature_extraction.text import CountVectorizer"
   ]
  },
  {
   "cell_type": "code",
   "execution_count": 5,
   "metadata": {},
   "outputs": [],
   "source": [
    "#### USE EITHER GRIDSEARCHCV or RANDOMSEARCHCV"
   ]
  },
  {
   "cell_type": "code",
   "execution_count": 6,
   "metadata": {},
   "outputs": [],
   "source": [
    "from sklearn.model_selection import RandomizedSearchCV\n",
    "from sklearn.model_selection import GridSearchCV"
   ]
  },
  {
   "cell_type": "markdown",
   "metadata": {},
   "source": [
    "###### Use the below function for benchmarks"
   ]
  },
  {
   "cell_type": "code",
   "execution_count": 7,
   "metadata": {},
   "outputs": [],
   "source": [
    "def benchmark(clf_class, params, name= 'classifier'):\n",
    "    print(\"parameters:\", params)\n",
    "    t0 = time()\n",
    "    clf = clf_class(**params).fit(X_train, y_train)\n",
    "    print(\"done in %fs\" % (time() - t0))\n",
    "\n",
    "    print(\"Predicting the outcomes of the testing set\")\n",
    "    t0 = time()\n",
    "    pred = clf.predict(X_test)\n",
    "    print(\"done in %fs\" % (time() - t0))\n",
    "    \n",
    "    print (\" Printing Accuracy of the classifier\")\n",
    "    print (accuracy_score(y_test, pred))\n",
    "    print ()\n",
    "\n",
    "    print(\"Classification report on test set for classifier:\")\n",
    "    print(clf)\n",
    "    print()\n",
    "    print(classification_report(y_test, pred, target_names=categories))\n",
    "    \n",
    "    print ()\n",
    "    print (\"FI score metrics\")\n",
    "    print (precision_recall_fscore_support(y_test, pred, average='weighted'))\n",
    "\n",
    "    cm = confusion_matrix(y_test, pred)\n",
    "    print(\"Confusion matrix:\")\n",
    "    print(cm)\n",
    "\n",
    "    # Show confusion matrix\n",
    "    plt.matshow(cm)\n",
    "    plt.title('CM of the %s ' % name)\n",
    "    plt.colorbar()"
   ]
  },
  {
   "cell_type": "code",
   "execution_count": 8,
   "metadata": {},
   "outputs": [],
   "source": [
    "# Load the dataset and choose 10 categories\n",
    "\n",
    "categories_all = ['alt.atheism',\n",
    " 'comp.graphics',\n",
    " 'comp.os.ms-windows.misc',\n",
    " 'comp.sys.ibm.pc.hardware',\n",
    " 'comp.sys.mac.hardware',\n",
    " 'comp.windows.x',\n",
    " 'misc.forsale',\n",
    " 'rec.autos',\n",
    " 'rec.motorcycles',\n",
    " 'rec.sport.baseball',\n",
    " 'rec.sport.hockey',\n",
    " 'sci.crypt',\n",
    " 'sci.electronics',\n",
    " 'sci.med',\n",
    " 'sci.space',\n",
    " 'soc.religion.christian',\n",
    " 'talk.politics.guns',\n",
    " 'talk.politics.mideast',\n",
    " 'talk.politics.misc',\n",
    " 'talk.religion.misc']\n"
   ]
  },
  {
   "cell_type": "code",
   "execution_count": 9,
   "metadata": {},
   "outputs": [],
   "source": [
    "# Selecting 10 random categories\n",
    "import random"
   ]
  },
  {
   "cell_type": "code",
   "execution_count": 10,
   "metadata": {},
   "outputs": [],
   "source": [
    "random.shuffle(categories_all) # Randomly shuffle the categories, pick any 10\n",
    "categories = [categories_all.pop() for i in range(10)]\n",
    "twenty_train = fetch_20newsgroups(subset='train', shuffle=True, \n",
    "                                  remove=('headers', 'footers', 'quotes'), categories= categories)\n",
    "twenty_test = fetch_20newsgroups(subset='test', shuffle=True, remove=('headers', 'footers', 'quotes'),\n",
    "                                 categories=categories)"
   ]
  },
  {
   "cell_type": "code",
   "execution_count": 11,
   "metadata": {},
   "outputs": [
    {
     "data": {
      "text/plain": [
       "dict_keys(['data', 'filenames', 'target_names', 'target', 'DESCR'])"
      ]
     },
     "execution_count": 11,
     "metadata": {},
     "output_type": "execute_result"
    }
   ],
   "source": [
    "twenty_train.keys()"
   ]
  },
  {
   "cell_type": "markdown",
   "metadata": {},
   "source": [
    "#### Lets use TF-IDF vectorizer"
   ]
  },
  {
   "cell_type": "code",
   "execution_count": 12,
   "metadata": {},
   "outputs": [
    {
     "data": {
      "text/plain": [
       "(5817, 2572)"
      ]
     },
     "execution_count": 12,
     "metadata": {},
     "output_type": "execute_result"
    }
   ],
   "source": [
    "vec = TfidfVectorizer(stop_words = {'english'}, lowercase=True, analyzer ='word', binary =False,min_df = 0.005)\n",
    "\n",
    "X_train = vec.fit_transform(twenty_train.data)\n",
    "X_train.shape"
   ]
  },
  {
   "cell_type": "code",
   "execution_count": 13,
   "metadata": {},
   "outputs": [
    {
     "data": {
      "text/plain": [
       "(3872, 2572)"
      ]
     },
     "execution_count": 13,
     "metadata": {},
     "output_type": "execute_result"
    }
   ],
   "source": [
    "X_test = vec.transform(twenty_test.data)\n",
    "X_test.shape"
   ]
  },
  {
   "cell_type": "code",
   "execution_count": 14,
   "metadata": {},
   "outputs": [],
   "source": [
    "y_train = twenty_train.target\n",
    "y_test = twenty_test.target"
   ]
  },
  {
   "cell_type": "code",
   "execution_count": null,
   "metadata": {},
   "outputs": [],
   "source": []
  },
  {
   "cell_type": "code",
   "execution_count": 15,
   "metadata": {},
   "outputs": [],
   "source": [
    "def MyMultiNomialNB(X_train, y_train):\n",
    "\tclf = MultinomialNB()\n",
    "\tparam_grid = {'alpha': [0.01,0.1, 1.0, 10, 100]}\n",
    "\t# Five fold Cross Validation\n",
    "\tclassifier= GridSearchCV(estimator=clf, cv=3 ,param_grid=param_grid)\n",
    "\tclassifier.fit(X_train, y_train)\n",
    "\treturn classifier.cv_results_, classifier.best_estimator_, classifier.best_params_, classifier.best_score_\n",
    "\n",
    "\n",
    "def Mylinear_svm(X_train, y_train):\n",
    "\tlinear_svc = svm.SVC(kernel='linear')\n",
    "\tparam_grid = {'C': np.logspace(-3, 2, 6)} # C is the regularizer, widens or shortens the width of the hyper plane\n",
    "\tclassifier= GridSearchCV(estimator=linear_svc, cv=3 ,param_grid=param_grid)\n",
    "\ty_train= np.array(y_train)\n",
    "\tclassifier.fit(X_train, y_train)\n",
    "\treturn classifier.cv_results_, classifier.best_estimator_, classifier.best_params_, classifier.best_score_\n",
    "\n",
    "\n",
    "def MyRandomForest(X_train, y_train):\n",
    "\tclf = RandomForestClassifier()\n",
    "\tparam_grid = {'n_estimators': [10,20,30,50,70,100],'max_depth': [5,10,20]}\n",
    "\tclassifier= GridSearchCV(estimator=clf, cv=3 ,param_grid=param_grid)\n",
    "\tclassifier.fit(X_train, y_train)\n",
    "\treturn classifier.cv_results_, classifier.best_estimator_, classifier.best_params_, classifier.best_score_\n",
    "\n",
    "def MyDecisionTree(X_train, y_train):\n",
    "\tclf = DecisionTreeClassifier(min_samples_split=2,random_state=0)\n",
    "\tparam_grid = {'max_depth': [1,5,10,25,50, 100, 200]}\n",
    "\tclassifier= GridSearchCV(estimator=clf, cv=3 ,param_grid=param_grid)\n",
    "\tclassifier.fit(X_train, y_train)\n",
    "\treturn classifier.cv_results_, classifier.best_estimator_, classifier.best_params_, classifier.best_score_"
   ]
  },
  {
   "cell_type": "markdown",
   "metadata": {},
   "source": [
    "# Train Random Forest Classifier"
   ]
  },
  {
   "cell_type": "code",
   "execution_count": 16,
   "metadata": {},
   "outputs": [],
   "source": [
    "cv_results, best_estimator, best_params_rf, best_score = MyRandomForest(X_train, y_train)"
   ]
  },
  {
   "cell_type": "code",
   "execution_count": 17,
   "metadata": {},
   "outputs": [
    {
     "name": "stdout",
     "output_type": "stream",
     "text": [
      " best estimator is {'max_depth': 20, 'n_estimators': 70} and score is 0.6618531889290012\n"
     ]
    }
   ],
   "source": [
    "print (f\" best estimator is {best_params_rf} and score is {best_score}\")"
   ]
  },
  {
   "cell_type": "markdown",
   "metadata": {},
   "source": [
    "# Decison Tree"
   ]
  },
  {
   "cell_type": "code",
   "execution_count": 18,
   "metadata": {},
   "outputs": [],
   "source": [
    "cv_results, best_estimator, best_params_dt, best_score = MyDecisionTree(X_train, y_train)"
   ]
  },
  {
   "cell_type": "code",
   "execution_count": 19,
   "metadata": {},
   "outputs": [
    {
     "name": "stdout",
     "output_type": "stream",
     "text": [
      " best estimator is {'max_depth': 100} and score is 0.4990544954443871\n"
     ]
    }
   ],
   "source": [
    "print (f\" best estimator is {best_params_dt} and score is {best_score}\")"
   ]
  },
  {
   "cell_type": "markdown",
   "metadata": {},
   "source": [
    "# Linear SVM ( Takes a long time, skip for now)"
   ]
  },
  {
   "cell_type": "code",
   "execution_count": 20,
   "metadata": {},
   "outputs": [
    {
     "name": "stdout",
     "output_type": "stream",
     "text": [
      "[1.e-03 1.e-02 1.e-01 1.e+00 1.e+01 1.e+02]\n"
     ]
    }
   ],
   "source": [
    "#cv_results, best_estimator, best_params_svm, best_score = Mylinear_svm(X_train, y_train)\n",
    "print (np.logspace(-3, 2, 6))"
   ]
  },
  {
   "cell_type": "code",
   "execution_count": 21,
   "metadata": {},
   "outputs": [],
   "source": [
    "#print (f\" best estimator is {best_params_svm} and score is {best_score}\")"
   ]
  },
  {
   "cell_type": "markdown",
   "metadata": {},
   "source": [
    "# MultiNomial Naive bayes"
   ]
  },
  {
   "cell_type": "code",
   "execution_count": 22,
   "metadata": {},
   "outputs": [],
   "source": [
    "cv_results, best_estimator, best_params_nb, best_score = MyMultiNomialNB(X_train, y_train)"
   ]
  },
  {
   "cell_type": "code",
   "execution_count": 23,
   "metadata": {},
   "outputs": [
    {
     "name": "stdout",
     "output_type": "stream",
     "text": [
      " best estimator is {'alpha': 0.1} and score is 0.7562317345710847\n"
     ]
    }
   ],
   "source": [
    "print (f\" best estimator is {best_params_nb} and score is {best_score}\")"
   ]
  },
  {
   "cell_type": "code",
   "execution_count": 24,
   "metadata": {},
   "outputs": [],
   "source": [
    "# Best accuracy for now is Multinomial NB, You can call the benchmark function to evaluate on test and get the metrics"
   ]
  },
  {
   "cell_type": "code",
   "execution_count": 25,
   "metadata": {},
   "outputs": [
    {
     "name": "stdout",
     "output_type": "stream",
     "text": [
      "parameters: {'alpha': 0.1}\n",
      "done in 0.007372s\n",
      "Predicting the outcomes of the testing set\n",
      "done in 0.002978s\n",
      " Printing Accuracy of the classifier\n",
      "0.7303719008264463\n",
      "\n",
      "Classification report on test set for classifier:\n",
      "MultinomialNB(alpha=0.1, class_prior=None, fit_prior=True)\n",
      "\n",
      "                          precision    recall  f1-score   support\n",
      "\n",
      "               sci.space       0.71      0.71      0.71       394\n",
      " comp.os.ms-windows.misc       0.78      0.74      0.76       392\n",
      "        rec.sport.hockey       0.71      0.71      0.71       396\n",
      "                 sci.med       0.72      0.71      0.72       398\n",
      "comp.sys.ibm.pc.hardware       0.80      0.76      0.78       397\n",
      "               sci.crypt       0.64      0.84      0.73       399\n",
      "               rec.autos       0.80      0.72      0.76       396\n",
      "      rec.sport.baseball       0.80      0.72      0.76       396\n",
      "         rec.motorcycles       0.75      0.70      0.72       394\n",
      "      talk.politics.misc       0.64      0.68      0.66       310\n",
      "\n",
      "                accuracy                           0.73      3872\n",
      "               macro avg       0.73      0.73      0.73      3872\n",
      "            weighted avg       0.74      0.73      0.73      3872\n",
      "\n",
      "\n",
      "FI score metrics\n",
      "(0.7357622662095749, 0.7303719008264463, 0.7310597876464805, None)\n",
      "Confusion matrix:\n",
      "[[280  53   1   7   4  15  11  10   8   5]\n",
      " [ 63 291  15   3   2   9   6   1   2   0]\n",
      " [  4   3 280  37   4  29   5   7  17  10]\n",
      " [  2   7  46 284   7  16   2   8  12  14]\n",
      " [  7   3   4   5 301  50   4   5   2  16]\n",
      " [  3   0   6   8  34 335   4   2   2   5]\n",
      " [ 16   5   6  10   8  17 286   7  13  28]\n",
      " [  8   5  18  19   2  19   5 287  17  16]\n",
      " [ 11   4  10   9   6  22  10  22 274  26]\n",
      " [  2   2  11  13   9  10  25  10  18 210]]\n"
     ]
    },
    {
     "data": {
      "image/png": "[encoded data removed]",
      "text/plain": [
       "<Figure size 288x288 with 2 Axes>"
      ]
     },
     "metadata": {},
     "output_type": "display_data"
    }
   ],
   "source": [
    "benchmark(MultinomialNB,best_params_nb )"
   ]
  },
  {
   "cell_type": "markdown",
   "metadata": {},
   "source": [
    "Looks decent and results could be improved with nlp techniques such as proper preprocessing, stop words removal\n",
    "or other algos. But this is okay for our experiements"
   ]
  },
  {
   "cell_type": "markdown",
   "metadata": {},
   "source": [
    "#### For just one classifier with one vectorizer, the performance of GridSearch and RandomSearch are nearly the same.\n",
    "\n",
    "### But there are many other classifiers with their own parameters ?\n",
    "### We could even use a different vectorizer ( count, tf-idf, hashing with its own parameters)"
   ]
  },
  {
   "cell_type": "markdown",
   "metadata": {},
   "source": [
    "# THE ANSWER IS BUILDING A PIPELINE AND DO A GRIDSEARCH ON THEM"
   ]
  },
  {
   "cell_type": "markdown",
   "metadata": {},
   "source": [
    "##### Simple example pipeline to to a classifier, its parameters, vectorizer and GridSearchCV\n",
    "##### lets do this again with 4 categories for time saving"
   ]
  },
  {
   "cell_type": "code",
   "execution_count": 26,
   "metadata": {},
   "outputs": [],
   "source": [
    "from sklearn.pipeline import Pipeline\n",
    "from sklearn.linear_model import LogisticRegression\n",
    "from sklearn import datasets\n",
    "from sklearn.model_selection import train_test_split"
   ]
  },
  {
   "cell_type": "code",
   "execution_count": 27,
   "metadata": {},
   "outputs": [],
   "source": [
    "# Load 2 categories and get train and test data\n",
    "\n",
    "categories = ['alt.atheism', 'rec.sport.baseball']\n",
    "twenty_train = fetch_20newsgroups(subset='train', shuffle=True, \n",
    "                                  remove=('headers', 'footers', 'quotes'), categories= categories)\n",
    "twenty_test = fetch_20newsgroups(subset='test', shuffle=True, remove=('headers', 'footers', 'quotes'),\n",
    "                                 categories=categories)\n",
    "\n",
    "y_train = twenty_train.target\n",
    "y_test = twenty_test.target"
   ]
  },
  {
   "cell_type": "code",
   "execution_count": 28,
   "metadata": {},
   "outputs": [],
   "source": [
    "# Lets initialize a pipeline"
   ]
  },
  {
   "cell_type": "code",
   "execution_count": 29,
   "metadata": {},
   "outputs": [],
   "source": [
    "from sklearn.base import BaseEstimator\n",
    "from sklearn.base import TransformerMixin\n",
    "\n",
    "class DummyEstimator(BaseEstimator):\n",
    "    def fit(self): pass\n",
    "    def score(self): pass\n",
    "\n",
    "class DummyTransformer(TransformerMixin):\n",
    "    def fit_transform(self, X, y=None, **fit_params): pass\n",
    "    def fit(self): pass\n",
    "    def tranform(self): pass\n",
    "\n",
    "pipeline = Pipeline([\n",
    "    ('vect', TfidfVectorizer()),\n",
    "    ('clf', DummyEstimator()),\n",
    "])\n",
    "\n",
    "# A fit transform followed by an estimator\n",
    "\n",
    "search_space = [\n",
    "    {\n",
    "        'vect': (TfidfVectorizer(),),\n",
    "        'vect__max_df': (0.5, 0.75),\n",
    "        'clf': (LogisticRegression(),),\n",
    "        'clf__C': ( 0.1, 1, 10),\n",
    "        'clf__penalty': ('l2', 'l1'),\n",
    "    }, \n",
    "    {\n",
    "        'vect': (TfidfVectorizer(),),\n",
    "        'vect__max_df': (0.5, 0.75),\n",
    "        'clf': (RandomForestClassifier(),),\n",
    "        'clf__n_estimators': (10,20,30,50),\n",
    "        'clf__max_depth': (5,10,20),\n",
    "    },\n",
    "    {\n",
    "        'vect': (TfidfVectorizer(),),\n",
    "        'vect__max_df': (0.5, 0.75),\n",
    "        'clf': (DecisionTreeClassifier(),),\n",
    "        'clf__max_depth': (1,5,10,25,50),\n",
    "    }, \n",
    "    {\n",
    "        'vect': (TfidfVectorizer(),),\n",
    "        'vect__max_df': (0.5, 0.75),\n",
    "        'clf': (MultinomialNB(),),\n",
    "        'clf__alpha': (0.01,0.1, 1.0, 10, 100),\n",
    "    }   \n",
    "]\n",
    "\n"
   ]
  },
  {
   "cell_type": "code",
   "execution_count": 30,
   "metadata": {},
   "outputs": [],
   "source": [
    "gs_clf = GridSearchCV(pipeline, search_space, cv=5, verbose=1)"
   ]
  },
  {
   "cell_type": "code",
   "execution_count": 31,
   "metadata": {},
   "outputs": [
    {
     "name": "stdout",
     "output_type": "stream",
     "text": [
      "Fitting 5 folds for each of 56 candidates, totalling 280 fits\n"
     ]
    },
    {
     "name": "stderr",
     "output_type": "stream",
     "text": [
      "[Parallel(n_jobs=1)]: Using backend SequentialBackend with 1 concurrent workers.\n",
      "/Users/s2917623/anaconda3/lib/python3.6/site-packages/sklearn/linear_model/logistic.py:432: FutureWarning: Default solver will be changed to 'lbfgs' in 0.22. Specify a solver to silence this warning.\n",
      "  FutureWarning)\n",
      "[Parallel(n_jobs=1)]: Done 280 out of 280 | elapsed:   52.8s finished\n"
     ]
    },
    {
     "data": {
      "text/plain": [
       "GridSearchCV(cv=5, error_score='raise-deprecating',\n",
       "             estimator=Pipeline(memory=None,\n",
       "                                steps=[('vect',\n",
       "                                        TfidfVectorizer(analyzer='word',\n",
       "                                                        binary=False,\n",
       "                                                        decode_error='strict',\n",
       "                                                        dtype=<class 'numpy.float64'>,\n",
       "                                                        encoding='utf-8',\n",
       "                                                        input='content',\n",
       "                                                        lowercase=True,\n",
       "                                                        max_df=1.0,\n",
       "                                                        max_features=None,\n",
       "                                                        min_df=1,\n",
       "                                                        ngram_range=(1, 1),\n",
       "                                                        norm='l2',\n",
       "                                                        preprocessor=None,\n",
       "                                                        smooth_idf=True,\n",
       "                                                        stop_words...\n",
       "                                                   lowercase=True, max_df=0.5,\n",
       "                                                   max_features=None, min_df=1,\n",
       "                                                   ngram_range=(1, 1),\n",
       "                                                   norm='l2', preprocessor=None,\n",
       "                                                   smooth_idf=True,\n",
       "                                                   stop_words=None,\n",
       "                                                   strip_accents=None,\n",
       "                                                   sublinear_tf=False,\n",
       "                                                   token_pattern='(?u)\\\\b\\\\w\\\\w+\\\\b',\n",
       "                                                   tokenizer=None, use_idf=True,\n",
       "                                                   vocabulary=None),),\n",
       "                          'vect__max_df': (0.5, 0.75)}],\n",
       "             pre_dispatch='2*n_jobs', refit=True, return_train_score=False,\n",
       "             scoring=None, verbose=1)"
      ]
     },
     "execution_count": 31,
     "metadata": {},
     "output_type": "execute_result"
    }
   ],
   "source": [
    "gs_clf.fit(twenty_train.data, twenty_train.target)"
   ]
  },
  {
   "cell_type": "code",
   "execution_count": 32,
   "metadata": {},
   "outputs": [
    {
     "name": "stdout",
     "output_type": "stream",
     "text": [
      " best estimator is {'clf': MultinomialNB(alpha=0.01, class_prior=None, fit_prior=True), 'clf__alpha': 0.01, 'vect': TfidfVectorizer(analyzer='word', binary=False, decode_error='strict',\n",
      "                dtype=<class 'numpy.float64'>, encoding='utf-8',\n",
      "                input='content', lowercase=True, max_df=0.5, max_features=None,\n",
      "                min_df=1, ngram_range=(1, 1), norm='l2', preprocessor=None,\n",
      "                smooth_idf=True, stop_words=None, strip_accents=None,\n",
      "                sublinear_tf=False, token_pattern='(?u)\\\\b\\\\w\\\\w+\\\\b',\n",
      "                tokenizer=None, use_idf=True, vocabulary=None), 'vect__max_df': 0.5} and score is 0.9591457753017641\n"
     ]
    }
   ],
   "source": [
    "gs_clf.best_params_\n",
    "# {'clf__C': 0.1}\n",
    "\n",
    "gs_clf.best_score_\n",
    "# 0.702290076336\n",
    "\n",
    "print (f\" best estimator is {gs_clf.best_params_} and score is {gs_clf.best_score_}\")"
   ]
  },
  {
   "cell_type": "code",
   "execution_count": 33,
   "metadata": {},
   "outputs": [],
   "source": [
    "# You can add even more parameters and search your classifiers with even more vectorizers like below"
   ]
  },
  {
   "cell_type": "code",
   "execution_count": 1,
   "metadata": {},
   "outputs": [
    {
     "ename": "NameError",
     "evalue": "name 'Pipeline' is not defined",
     "output_type": "error",
     "traceback": [
      "\u001b[0;31m---------------------------------------------------------------------------\u001b[0m",
      "\u001b[0;31mNameError\u001b[0m                                 Traceback (most recent call last)",
      "\u001b[0;32m<ipython-input-1-1665c64ab6b6>\u001b[0m in \u001b[0;36m<module>\u001b[0;34m()\u001b[0m\n\u001b[0;32m----> 1\u001b[0;31m pipeline = Pipeline([\n\u001b[0m\u001b[1;32m      2\u001b[0m     \u001b[0;34m(\u001b[0m\u001b[0;34m'vect'\u001b[0m\u001b[0;34m,\u001b[0m \u001b[0mTfidfVectorizer\u001b[0m\u001b[0;34m(\u001b[0m\u001b[0;34m)\u001b[0m\u001b[0;34m)\u001b[0m\u001b[0;34m,\u001b[0m\u001b[0;34m\u001b[0m\u001b[0m\n\u001b[1;32m      3\u001b[0m     \u001b[0;34m(\u001b[0m\u001b[0;34m'clf'\u001b[0m\u001b[0;34m,\u001b[0m \u001b[0mDummyEstimator\u001b[0m\u001b[0;34m(\u001b[0m\u001b[0;34m)\u001b[0m\u001b[0;34m)\u001b[0m\u001b[0;34m,\u001b[0m\u001b[0;34m\u001b[0m\u001b[0m\n\u001b[1;32m      4\u001b[0m ])\n\u001b[1;32m      5\u001b[0m \u001b[0;34m\u001b[0m\u001b[0m\n",
      "\u001b[0;31mNameError\u001b[0m: name 'Pipeline' is not defined"
     ]
    }
   ],
   "source": [
    "pipeline = Pipeline([\n",
    "    ('vect', TfidfVectorizer()),\n",
    "    ('clf', DummyEstimator()),\n",
    "])\n",
    "\n",
    "# A fit transform followed by an estimator\n",
    "\n",
    "search_space = [\n",
    "    {\n",
    "        'vect': (TfidfVectorizer(),),\n",
    "        'vect__max_df': (0.5, 0.75),\n",
    "        'clf': (LogisticRegression(),),\n",
    "        'clf__C': ( 0.1, 1, 10),\n",
    "        'clf__penalty': ('l2', 'l1'),\n",
    "    }, \n",
    "    {\n",
    "        'vect': (TfidfVectorizer(),),\n",
    "        'vect__max_df': (0.5, 0.75),\n",
    "        'clf': (RandomForestClassifier(),),\n",
    "        'clf__n_estimators': (10,20,30,50),\n",
    "        'clf__max_depth': (5,10,20),\n",
    "    },\n",
    "    {\n",
    "        'vect': (TfidfVectorizer(),),\n",
    "        'vect__max_df': (0.5, 0.75),\n",
    "        'clf': (DecisionTreeClassifier(),),\n",
    "        'clf__max_depth': (1,5,10,25,50),\n",
    "    }, \n",
    "    {\n",
    "        'vect': (TfidfVectorizer(),),\n",
    "        'vect__max_df': (0.5, 0.75),\n",
    "        'clf': (MultinomialNB(),),\n",
    "        'clf__alpha': (0.01,0.1, 1.0, 10, 100),\n",
    "    },\n",
    "        {\n",
    "        'vect': (CountVectorizer(),),\n",
    "        'vect__max_df': (0.5, 0.75),\n",
    "        'clf': (LogisticRegression(),),\n",
    "        'clf__C': ( 0.1, 1, 10),\n",
    "        'clf__penalty': ('l2', 'l1'),\n",
    "    }, \n",
    "    {\n",
    "        'vect': (CountVectorizer(),),\n",
    "        'vect__max_df': (0.5, 0.75),\n",
    "        'clf': (RandomForestClassifier(),),\n",
    "        'clf__n_estimators': (10,20,30,50),\n",
    "        'clf__max_depth': (5,10,20),\n",
    "    },\n",
    "    {\n",
    "        'vect': (CountVectorizer(),),\n",
    "        'vect__max_df': (0.5, 0.75),\n",
    "        'clf': (DecisionTreeClassifier(),),\n",
    "        'clf__max_depth': (1,5,10,25,50),\n",
    "    }, \n",
    "    {\n",
    "        'vect': (CountVectorizer(),),\n",
    "        'vect__max_df': (0.5, 0.75),\n",
    "        'clf': (MultinomialNB(),),\n",
    "        'clf__alpha': (0.01,0.1, 1.0, 10, 100),\n",
    "    }\n",
    "    \n",
    "]\n",
    "\n"
   ]
  },
  {
   "cell_type": "code",
   "execution_count": 35,
   "metadata": {},
   "outputs": [
    {
     "name": "stdout",
     "output_type": "stream",
     "text": [
      "Fitting 5 folds for each of 112 candidates, totalling 560 fits\n"
     ]
    },
    {
     "name": "stderr",
     "output_type": "stream",
     "text": [
      "[Parallel(n_jobs=1)]: Using backend SequentialBackend with 1 concurrent workers.\n",
      "/Users/s2917623/anaconda3/lib/python3.6/site-packages/sklearn/linear_model/logistic.py:432: FutureWarning: Default solver will be changed to 'lbfgs' in 0.22. Specify a solver to silence this warning.\n",
      "  FutureWarning)\n",
      "/Users/s2917623/anaconda3/lib/python3.6/site-packages/sklearn/linear_model/logistic.py:432: FutureWarning: Default solver will be changed to 'lbfgs' in 0.22. Specify a solver to silence this warning.\n",
      "  FutureWarning)\n"
     ]
    },
    {
     "name": "stdout",
     "output_type": "stream",
     "text": [
      " best estimator is {'clf': MultinomialNB(alpha=0.01, class_prior=None, fit_prior=True), 'clf__alpha': 0.01, 'vect': TfidfVectorizer(analyzer='word', binary=False, decode_error='strict',\n",
      "                dtype=<class 'numpy.float64'>, encoding='utf-8',\n",
      "                input='content', lowercase=True, max_df=0.5, max_features=None,\n",
      "                min_df=1, ngram_range=(1, 1), norm='l2', preprocessor=None,\n",
      "                smooth_idf=True, stop_words=None, strip_accents=None,\n",
      "                sublinear_tf=False, token_pattern='(?u)\\\\b\\\\w\\\\w+\\\\b',\n",
      "                tokenizer=None, use_idf=True, vocabulary=None), 'vect__max_df': 0.5} and score is 0.9591457753017641\n"
     ]
    },
    {
     "name": "stderr",
     "output_type": "stream",
     "text": [
      "[Parallel(n_jobs=1)]: Done 560 out of 560 | elapsed:  1.6min finished\n"
     ]
    }
   ],
   "source": [
    "gs_clf = GridSearchCV(pipeline, search_space, cv=5, verbose=1)\n",
    "gs_clf.fit(twenty_train.data, twenty_train.target)\n",
    "print (f\" best estimator is {gs_clf.best_params_} and score is {gs_clf.best_score_}\")"
   ]
  },
  {
   "cell_type": "markdown",
   "metadata": {},
   "source": [
    "# Next More into pipelines, base estimator and transformer classes"
   ]
  },
  {
   "cell_type": "code",
   "execution_count": 36,
   "metadata": {},
   "outputs": [],
   "source": [
    "# Before that Practise pipeline with GridSearch on iris dataset"
   ]
  },
  {
   "cell_type": "code",
   "execution_count": null,
   "metadata": {},
   "outputs": [],
   "source": []
  }
 ],
 "metadata": {
  "kernelspec": {
   "display_name": "Python 3",
   "language": "python",
   "name": "python3"
  },
  "language_info": {
   "codemirror_mode": {
    "name": "ipython",
    "version": 3
   },
   "file_extension": ".py",
   "mimetype": "text/x-python",
   "name": "python",
   "nbconvert_exporter": "python",
   "pygments_lexer": "ipython3",
   "version": "3.6.5"
  }
 },
 "nbformat": 4,
 "nbformat_minor": 2
}
